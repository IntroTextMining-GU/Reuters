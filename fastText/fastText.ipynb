{
 "cells": [
  {
   "cell_type": "code",
   "execution_count": 1,
   "metadata": {},
   "outputs": [],
   "source": [
    "# -*- coding: utf-8 -*-\n",
    "\n",
    "import fasttext\n",
    "from loadData import loadData\n",
    "from nltk.corpus import reuters\n",
    "import numpy as np"
   ]
  },
  {
   "cell_type": "code",
   "execution_count": 2,
   "metadata": {},
   "outputs": [],
   "source": [
    "doc_id = reuters.fileids()\n",
    "train_id = [d for d in doc_id if d.startswith('training/')]\n",
    "test_id = [d for d in doc_id if d.startswith('test/')]\n",
    "\n",
    "data, label = loadData()"
   ]
  },
  {
   "cell_type": "code",
   "execution_count": 24,
   "metadata": {},
   "outputs": [],
   "source": [
    "train = data['train']\n",
    "train_label = label['train']\n",
    "\n",
    "folds = 10\n",
    "proportion = len(train) / folds\n",
    "\n",
    "for i in range(0, folds - 1):\n",
    "    f = open('./crossValidation/cross_' + str(i), 'w+')\n",
    "    for j in range(i * proportion, (i + 1) * proportion):\n",
    "        for cat in train_label[j]:\n",
    "            f.write('__label__' + cat + ' ')\n",
    "        text = train[j]\n",
    "        text.replace('\\t', ' ').replace('\\n', ' ')\n",
    "        f.write(u' '.join(text.split()).encode('utf-8') + '\\n');\n",
    "    f.close()\n",
    "    \n",
    "f = open('./crossValidation/cross_' + str(folds - 1), 'w+')\n",
    "for j in range((folds - 2) * proportion, len(train)):\n",
    "    for cat in train_label[j]:\n",
    "        f.write('__label__' + cat + ' ')\n",
    "    text = train[j]\n",
    "    text.replace('\\t', ' ').replace('\\n', ' ')\n",
    "    f.write(u' '.join(text.split()).encode('utf-8') + '\\n');\n",
    "f.close()"
   ]
  },
  {
   "cell_type": "code",
   "execution_count": 88,
   "metadata": {
    "scrolled": true
   },
   "outputs": [
    {
     "name": "stdout",
     "output_type": "stream",
     "text": [
      "0.366346472342\n"
     ]
    }
   ],
   "source": [
    "models = {}\n",
    "\n",
    "for cat in reuters.categories():\n",
    "    clf = fasttext.load_model('./model/' + cat + '.model.bin', label_prefix = '__label__')\n",
    "    models[cat] = clf\n",
    "\n",
    "corrects = 0.0\n",
    "for d in test_id:\n",
    "    flag = True\n",
    "    for cat in reuters.categories():\n",
    "        clf = models[cat]\n",
    "        label = clf.predict([reuters.raw(d)])[0][0]\n",
    "        if (label == cat and cat in reuters.categories(d)) or (label != cat and cat not in reuters.categories(d)):\n",
    "            flag = True\n",
    "        else:\n",
    "            flag = False\n",
    "            break\n",
    "    if flag:\n",
    "        corrects += 1\n",
    "\n",
    "print 'accuracy:', corrects / len(test_id)"
   ]
  },
  {
   "cell_type": "code",
   "execution_count": 5,
   "metadata": {
    "scrolled": true
   },
   "outputs": [
    {
     "ename": "KeyboardInterrupt",
     "evalue": "",
     "output_type": "error",
     "traceback": [
      "\u001b[0;31m---------------------------------------------------------------------------\u001b[0m",
      "\u001b[0;31mKeyboardInterrupt\u001b[0m                         Traceback (most recent call last)",
      "\u001b[0;32m<ipython-input-5-cb31f3dc3348>\u001b[0m in \u001b[0;36m<module>\u001b[0;34m()\u001b[0m\n\u001b[1;32m     10\u001b[0m         \u001b[0mtext\u001b[0m \u001b[0;34m=\u001b[0m \u001b[0mreuters\u001b[0m\u001b[0;34m.\u001b[0m\u001b[0mraw\u001b[0m\u001b[0;34m(\u001b[0m\u001b[0md\u001b[0m\u001b[0;34m)\u001b[0m\u001b[0;34m\u001b[0m\u001b[0m\n\u001b[1;32m     11\u001b[0m         \u001b[0mtext\u001b[0m\u001b[0;34m.\u001b[0m\u001b[0mreplace\u001b[0m\u001b[0;34m(\u001b[0m\u001b[0;34m'\\t'\u001b[0m\u001b[0;34m,\u001b[0m \u001b[0;34m' '\u001b[0m\u001b[0;34m)\u001b[0m\u001b[0;34m.\u001b[0m\u001b[0mreplace\u001b[0m\u001b[0;34m(\u001b[0m\u001b[0;34m'\\n'\u001b[0m\u001b[0;34m,\u001b[0m \u001b[0;34m' '\u001b[0m\u001b[0;34m)\u001b[0m\u001b[0;34m\u001b[0m\u001b[0m\n\u001b[0;32m---> 12\u001b[0;31m         \u001b[0mtrain\u001b[0m\u001b[0;34m.\u001b[0m\u001b[0mwrite\u001b[0m\u001b[0;34m(\u001b[0m\u001b[0;34m' '\u001b[0m \u001b[0;34m+\u001b[0m \u001b[0;34mu' '\u001b[0m\u001b[0;34m.\u001b[0m\u001b[0mjoin\u001b[0m\u001b[0;34m(\u001b[0m\u001b[0mtext\u001b[0m\u001b[0;34m.\u001b[0m\u001b[0msplit\u001b[0m\u001b[0;34m(\u001b[0m\u001b[0;34m)\u001b[0m\u001b[0;34m)\u001b[0m\u001b[0;34m.\u001b[0m\u001b[0mencode\u001b[0m\u001b[0;34m(\u001b[0m\u001b[0;34m'utf-8'\u001b[0m\u001b[0;34m)\u001b[0m \u001b[0;34m+\u001b[0m \u001b[0;34m'\\n'\u001b[0m\u001b[0;34m)\u001b[0m\u001b[0;34m\u001b[0m\u001b[0m\n\u001b[0m\u001b[1;32m     13\u001b[0m     \u001b[0;32mfor\u001b[0m \u001b[0md\u001b[0m \u001b[0;32min\u001b[0m \u001b[0mtest_id\u001b[0m\u001b[0;34m:\u001b[0m\u001b[0;34m\u001b[0m\u001b[0m\n\u001b[1;32m     14\u001b[0m         \u001b[0;32mif\u001b[0m \u001b[0mcat\u001b[0m \u001b[0;32min\u001b[0m \u001b[0mreuters\u001b[0m\u001b[0;34m.\u001b[0m\u001b[0mcategories\u001b[0m\u001b[0;34m(\u001b[0m\u001b[0md\u001b[0m\u001b[0;34m)\u001b[0m\u001b[0;34m:\u001b[0m\u001b[0;34m\u001b[0m\u001b[0m\n",
      "\u001b[0;31mKeyboardInterrupt\u001b[0m: "
     ]
    }
   ],
   "source": [
    "for cat in reuters.categories():\n",
    "    train = open(cat + '_train', 'w+')\n",
    "    test = open(cat + '_test', 'w+')\n",
    "    \n",
    "    for d in train_id:\n",
    "        if cat in reuters.categories(d):\n",
    "            train.write('__label__' + cat)\n",
    "        else:\n",
    "            train.write('__label__NOT' + cat)\n",
    "        text = reuters.raw(d)\n",
    "        text.replace('\\t', ' ').replace('\\n', ' ')\n",
    "        train.write(' ' + u' '.join(text.split()).encode('utf-8') + '\\n')    \n",
    "    for d in test_id:\n",
    "        if cat in reuters.categories(d):\n",
    "            test.write('__label__' + cat)\n",
    "        else:\n",
    "            test.write('__label__NOT' + cat)\n",
    "        text = reuters.raw(d)\n",
    "        text.replace('\\t', ' ').replace('\\n', ' ')\n",
    "        test.write(' ' + u' '.join(text.split()).encode('utf-8') + '\\n')\n",
    "    \n",
    "    train.close()\n",
    "    test.close()\n",
    "    \n",
    "    clf = fasttext.supervised(cat + '_train', cat + '.model', label_prefix = '__label__')\n",
    "    result = clf.test(cat + '_test')\n",
    "\n",
    "    print cat, ': ', result.precision"
   ]
  },
  {
   "cell_type": "code",
   "execution_count": null,
   "metadata": {},
   "outputs": [],
   "source": [
    "for cat in reuters.categories():\n",
    "    test_pos = open('./testData' + cat + '_pos_test', 'w+')\n",
    "    test_neg = open('./testData' + cat + '_neg_test', 'w+')\n",
    "\n",
    "    for d in train_id:\n",
    "        text = reuters.raw(d)\n",
    "        text.replace('\\t', ' ').replace('\\n', ' ')\n",
    "        if cat in reuters.categories(d):\n",
    "            test_pos.write('__label__' + cat)\n",
    "            test_pos.write(' ' + u' '.join(text.split()).encode('utf-8') + '\\n')\n",
    "        else:\n",
    "            test_neg.write('__label__NOT' + cat)\n",
    "            test_neg.write(' ' + u' '.join(text.split()).encode('utf-8') + '\\n')\n",
    "    \n",
    "    test_pos.close()\n",
    "    test_neg.close()"
   ]
  },
  {
   "cell_type": "code",
   "execution_count": 23,
   "metadata": {},
   "outputs": [],
   "source": [
    "train = open('train_Reuters', 'w+')\n",
    "test = open('test_Reuters', 'w+')\n",
    "\n",
    "for d in train_id:\n",
    "    for cat in reuters.categories(d):\n",
    "        train.write('__label__' + cat + ' ')\n",
    "    \n",
    "    text = reuters.raw(d)\n",
    "    text.replace('\\t', ' ').replace('\\n', ' ')\n",
    "    train.write(u' '.join(text.split()).encode('utf-8') + '\\n');\n",
    "\n",
    "for d in test_id:\n",
    "    for cat in reuters.categories(d):\n",
    "        test.write('__label__' + cat + ' ')\n",
    "    \n",
    "    text = reuters.raw(d)\n",
    "    text.replace('\\t', ' ').replace('\\n', ' ')\n",
    "    test.write(' '.join(text.split()).encode('utf-8') + '\\n');\n",
    "    \n",
    "train.close()\n",
    "test.close()\n",
    "\n",
    "clf = fasttext.supervised('train_Reuters', 'fastText.model', label_prefix = '__label__')"
   ]
  },
  {
   "cell_type": "code",
   "execution_count": 25,
   "metadata": {},
   "outputs": [],
   "source": [
    "clf = fasttext.load_model('fastText.model.bin', label_prefix = '__label__')\n",
    "\n",
    "test = data['test']\n",
    "test_label = label['test']"
   ]
  },
  {
   "cell_type": "code",
   "execution_count": 38,
   "metadata": {},
   "outputs": [
    {
     "data": {
      "text/plain": [
       "0.499732905982906"
      ]
     },
     "execution_count": 38,
     "metadata": {},
     "output_type": "execute_result"
    }
   ],
   "source": [
    "score = clf.test('test_Reuters')\n",
    "score.recall"
   ]
  },
  {
   "cell_type": "code",
   "execution_count": null,
   "metadata": {},
   "outputs": [],
   "source": []
  }
 ],
 "metadata": {
  "kernelspec": {
   "display_name": "Python 2",
   "language": "python",
   "name": "python2"
  },
  "language_info": {
   "codemirror_mode": {
    "name": "ipython",
    "version": 2
   },
   "file_extension": ".py",
   "mimetype": "text/x-python",
   "name": "python",
   "nbconvert_exporter": "python",
   "pygments_lexer": "ipython2",
   "version": "2.7.10"
  }
 },
 "nbformat": 4,
 "nbformat_minor": 2
}
