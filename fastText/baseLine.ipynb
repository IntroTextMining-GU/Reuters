{
 "cells": [
  {
   "cell_type": "code",
   "execution_count": 1,
   "metadata": {},
   "outputs": [],
   "source": [
    "import sklearn\n",
    "\n",
    "from nltk.corpus import reuters\n",
    "from nltk.corpus import stopwords\n",
    "\n",
    "from sklearn.preprocessing import LabelEncoder\n",
    "from sklearn.preprocessing import MultiLabelBinarizer\n",
    "from sklearn.feature_extraction.text import TfidfVectorizer\n",
    "from sklearn.feature_extraction.text import CountVectorizer\n",
    "from sklearn.feature_extraction.text import HashingVectorizer\n",
    "\n",
    "from sklearn.neighbors import KNeighborsClassifier\n",
    "from sklearn.tree import DecisionTreeClassifier"
   ]
  },
  {
   "cell_type": "code",
   "execution_count": 2,
   "metadata": {},
   "outputs": [],
   "source": [
    "label_binarizer = MultiLabelBinarizer()\n",
    "stop_words = stopwords.words(\"english\")\n",
    "count_vectorizer = CountVectorizer(stop_words = stop_words)\n",
    "hashing_vectorizer = HashingVectorizer(stop_words = stop_words, alternate_sign = False)\n",
    "tfidf_vectorizer = TfidfVectorizer(stop_words = stop_words)"
   ]
  },
  {
   "cell_type": "code",
   "execution_count": 3,
   "metadata": {},
   "outputs": [],
   "source": [
    "doc_id = reuters.fileids()\n",
    "train_id = [d for d in doc_id if d.startswith('training/')]\n",
    "test_id = [d for d in doc_id if d.startswith('test/')]\n",
    "    \n",
    "train_data = [reuters.raw(doc_id) for doc_id in train_id]\n",
    "test_data = [reuters.raw(doc_id) for doc_id in test_id]\n",
    "\n",
    "train_label = [reuters.categories(doc_id) for doc_id in train_id]\n",
    "test_label = [reuters.categories(doc_id) for doc_id in test_id]\n",
    "\n",
    "train_label = label_binarizer.fit_transform(train_label)\n",
    "test_label = label_binarizer.transform(test_label)"
   ]
  },
  {
   "cell_type": "code",
   "execution_count": 4,
   "metadata": {
    "scrolled": true
   },
   "outputs": [],
   "source": [
    "train_hashing = hashing_vectorizer.fit_transform(train_data)\n",
    "test_hashing = hashing_vectorizer.transform(test_data)\n",
    "\n",
    "train_tfidf = tfidf_vectorizer.fit_transform(train_data)\n",
    "test_tfidf = tfidf_vectorizer.transform(test_data)\n",
    "\n",
    "train_bow = count_vectorizer.fit_transform(train_data)\n",
    "test_bow = count_vectorizer.transform(test_data)"
   ]
  },
  {
   "cell_type": "code",
   "execution_count": 5,
   "metadata": {},
   "outputs": [
    {
     "name": "stdout",
     "output_type": "stream",
     "text": [
      "KNN:  0.7416363034117257\n",
      "DT:  0.7502484266313348\n"
     ]
    }
   ],
   "source": [
    "KNN_hashing = KNeighborsClassifier()\n",
    "KNN_hashing.fit(train_hashing, train_label)\n",
    "\n",
    "DT_hashing = DecisionTreeClassifier()\n",
    "DT_hashing.fit(train_hashing, train_label)\n",
    "\n",
    "print 'KNN: ', KNN_hashing.score(test_hashing, test_label)\n",
    "print 'DT: ', DT_hashing.score(test_hashing, test_label)"
   ]
  },
  {
   "cell_type": "code",
   "execution_count": 6,
   "metadata": {
    "scrolled": true
   },
   "outputs": [
    {
     "name": "stdout",
     "output_type": "stream",
     "text": [
      "KNN:  0.7303742961245445\n",
      "DT:  0.7360052997681351\n"
     ]
    }
   ],
   "source": [
    "KNN_tfidf = KNeighborsClassifier()\n",
    "KNN_tfidf.fit(train_tfidf, train_label)\n",
    "\n",
    "DT_tfidf = DecisionTreeClassifier()\n",
    "DT_tfidf.fit(train_tfidf, train_label)\n",
    "\n",
    "print 'KNN: ', KNN_tfidf.score(test_tfidf, test_label)\n",
    "print 'DT: ', DT_tfidf.score(test_tfidf, test_label)"
   ]
  },
  {
   "cell_type": "code",
   "execution_count": 7,
   "metadata": {
    "scrolled": true
   },
   "outputs": [
    {
     "name": "stdout",
     "output_type": "stream",
     "text": [
      "KNN:  0.7257369990062935\n",
      "DT:  0.665120900960583\n"
     ]
    }
   ],
   "source": [
    "KNN_bow = KNeighborsClassifier()\n",
    "KNN_bow.fit(train_bow, train_label)\n",
    "\n",
    "DT_bow = DecisionTreeClassifier()\n",
    "DT_bow.fit(train_bow, train_label)\n",
    "\n",
    "print 'KNN: ', KNN_tfidf.score(test_bow, test_label)\n",
    "print 'DT: ', DT_tfidf.score(test_bow, test_label)"
   ]
  }
 ],
 "metadata": {
  "kernelspec": {
   "display_name": "Python 2",
   "language": "python",
   "name": "python2"
  },
  "language_info": {
   "codemirror_mode": {
    "name": "ipython",
    "version": 2
   },
   "file_extension": ".py",
   "mimetype": "text/x-python",
   "name": "python",
   "nbconvert_exporter": "python",
   "pygments_lexer": "ipython2",
   "version": "2.7.10"
  }
 },
 "nbformat": 4,
 "nbformat_minor": 2
}
