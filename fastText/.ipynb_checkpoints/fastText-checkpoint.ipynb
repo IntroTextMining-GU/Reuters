{
 "cells": [
  {
   "cell_type": "code",
   "execution_count": 1,
   "metadata": {},
   "outputs": [],
   "source": [
    "# -*- coding: utf-8 -*-\n",
    "\n",
    "import fasttext\n",
    "\n",
    "from nltk.corpus import reuters"
   ]
  },
  {
   "cell_type": "code",
   "execution_count": 2,
   "metadata": {},
   "outputs": [],
   "source": [
    "doc_id = reuters.fileids()\n",
    "train_id = [d for d in doc_id if d.startswith('training/')]\n",
    "test_id = [d for d in doc_id if d.startswith('test/')]"
   ]
  },
  {
   "cell_type": "code",
   "execution_count": 7,
   "metadata": {},
   "outputs": [],
   "source": [
    "train = open('train_Reuters', 'w+')\n",
    "test = open('test_Reuters', 'w+')\n",
    "\n",
    "for d in train_id:\n",
    "    for cat in reuters.categories(d):\n",
    "        train.write('__label__' + cat)\n",
    "    \n",
    "    text = reuters.raw(d)\n",
    "    text.replace('\\t', ' ').replace('\\n', ' ')\n",
    "    train.write(' ' + u' '.join(text.split()).encode('utf-8') + '\\n');\n",
    "\n",
    "for d in test_id:\n",
    "    for cat in reuters.categories(d):\n",
    "        test.write('__label__' + cat)\n",
    "    \n",
    "    text = reuters.raw(d)\n",
    "    text.replace('\\t', ' ').replace('\\n', ' ')\n",
    "    test.write(' ' + ' '.join(text.split()).encode('utf-8') + '\\n');\n",
    "    \n",
    "train.close()\n",
    "test.close()"
   ]
  },
  {
   "cell_type": "code",
   "execution_count": 8,
   "metadata": {},
   "outputs": [],
   "source": [
    "clf = fasttext.supervised('train_Reuters', label_prefix = '__label__')"
   ]
  },
  {
   "cell_type": "code",
   "execution_count": 9,
   "metadata": {},
   "outputs": [
    {
     "name": "stdout",
     "output_type": "stream",
     "text": [
      "0.600414078675\n",
      "0.600414078675\n"
     ]
    }
   ],
   "source": [
    "result = clf.test('test_Reuters')\n",
    "\n",
    "print result.precision\n",
    "print result.recall"
   ]
  },
  {
   "cell_type": "code",
   "execution_count": null,
   "metadata": {},
   "outputs": [],
   "source": []
  }
 ],
 "metadata": {
  "kernelspec": {
   "display_name": "Python 2",
   "language": "python",
   "name": "python2"
  },
  "language_info": {
   "codemirror_mode": {
    "name": "ipython",
    "version": 2
   },
   "file_extension": ".py",
   "mimetype": "text/x-python",
   "name": "python",
   "nbconvert_exporter": "python",
   "pygments_lexer": "ipython2",
   "version": "2.7.10"
  }
 },
 "nbformat": 4,
 "nbformat_minor": 2
}
